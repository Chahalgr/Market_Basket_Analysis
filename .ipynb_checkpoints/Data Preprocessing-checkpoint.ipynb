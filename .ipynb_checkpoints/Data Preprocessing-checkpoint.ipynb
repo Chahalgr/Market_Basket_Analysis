{
 "cells": [
  {
   "cell_type": "code",
   "execution_count": 6,
   "metadata": {},
   "outputs": [],
   "source": [
    "import pandas as pd\n",
    "\n",
    "#Load \"Dataset.csv\" into df\n",
    "#Dataset uses \";\" as a delimiter, and it's a huge file so low_memory = False to avoid chunk loading\n",
    "df = pd.read_csv('Dataset.csv', sep = \";\", low_memory = False)"
   ]
  },
  {
   "cell_type": "code",
   "execution_count": 7,
   "metadata": {},
   "outputs": [
    {
     "name": "stdout",
     "output_type": "stream",
     "text": [
      "Original Dataset:\n",
      "   BillNo                             Itemname  Quantity              Date  \\\n",
      "0  536365   WHITE HANGING HEART T-LIGHT HOLDER         6  01.12.2010 08:26   \n",
      "1  536365                  WHITE METAL LANTERN         6  01.12.2010 08:26   \n",
      "2  536365       CREAM CUPID HEARTS COAT HANGER         8  01.12.2010 08:26   \n",
      "3  536365  KNITTED UNION FLAG HOT WATER BOTTLE         6  01.12.2010 08:26   \n",
      "4  536365       RED WOOLLY HOTTIE WHITE HEART.         6  01.12.2010 08:26   \n",
      "\n",
      "  Price  CustomerID         Country  \n",
      "0  2,55     17850.0  United Kingdom  \n",
      "1  3,39     17850.0  United Kingdom  \n",
      "2  2,75     17850.0  United Kingdom  \n",
      "3  3,39     17850.0  United Kingdom  \n",
      "4  3,39     17850.0  United Kingdom  \n",
      "---------------------------------\n"
     ]
    }
   ],
   "source": [
    "#EDA:\n",
    "\n",
    "#Display the first 5 rows\n",
    "print(\"Original Dataset:\")\n",
    "print(df.head())"
   ]
  },
  {
   "cell_type": "code",
   "execution_count": 8,
   "metadata": {},
   "outputs": [
    {
     "name": "stdout",
     "output_type": "stream",
     "text": [
      "Column labels:\n",
      "<class 'pandas.core.frame.DataFrame'>\n",
      "RangeIndex: 522064 entries, 0 to 522063\n",
      "Data columns (total 7 columns):\n",
      " #   Column      Non-Null Count   Dtype  \n",
      "---  ------      --------------   -----  \n",
      " 0   BillNo      522064 non-null  object \n",
      " 1   Itemname    520609 non-null  object \n",
      " 2   Quantity    522064 non-null  int64  \n",
      " 3   Date        522064 non-null  object \n",
      " 4   Price       522064 non-null  object \n",
      " 5   CustomerID  388023 non-null  float64\n",
      " 6   Country     522064 non-null  object \n",
      "dtypes: float64(1), int64(1), object(5)\n",
      "memory usage: 27.9+ MB\n",
      "--------------\n"
     ]
    }
   ],
   "source": [
    "#Show Column names\n",
    "print(\"Column labels:\")\n",
    "df.info()"
   ]
  },
  {
   "cell_type": "code",
   "execution_count": 9,
   "metadata": {},
   "outputs": [
    {
     "name": "stdout",
     "output_type": "stream",
     "text": [
      "#Missing Values:  BillNo             0\n",
      "Itemname        1455\n",
      "Quantity           0\n",
      "Date               0\n",
      "Price              0\n",
      "CustomerID    134041\n",
      "Country            0\n",
      "dtype: int64\n",
      "#Duplicate rows:  5286\n",
      "-----------------\n"
     ]
    }
   ],
   "source": [
    "#Inspect if we have missing values or duplicate rows\n",
    "print(\"#Missing Values: \", df.isnull().sum())\n",
    "print(\"#Duplicate rows: \", df.duplicated().sum())"
   ]
  },
  {
   "cell_type": "code",
   "execution_count": 10,
   "metadata": {},
   "outputs": [
    {
     "name": "stdout",
     "output_type": "stream",
     "text": [
      "<class 'pandas.core.frame.DataFrame'>\n",
      "RangeIndex: 382811 entries, 0 to 382810\n",
      "Data columns (total 7 columns):\n",
      " #   Column      Non-Null Count   Dtype  \n",
      "---  ------      --------------   -----  \n",
      " 0   BillNo      382811 non-null  object \n",
      " 1   Itemname    382811 non-null  object \n",
      " 2   Quantity    382811 non-null  int64  \n",
      " 3   Date        382811 non-null  object \n",
      " 4   Price       382811 non-null  object \n",
      " 5   CustomerID  382811 non-null  float64\n",
      " 6   Country     382811 non-null  object \n",
      "dtypes: float64(1), int64(1), object(5)\n",
      "memory usage: 20.4+ MB\n",
      "---------------------\n"
     ]
    }
   ],
   "source": [
    "#Data Cleaning:\n",
    "\n",
    "#Remove duplicate rows and the ones with missing values and make the index linearly consistent with the number of rows\n",
    "df_cleaned = df.dropna(axis = 0, how = 'any')\n",
    "df_cleaned = df_cleaned.drop_duplicates()\n",
    "df_cleaned.reset_index(drop = True, inplace = True)\n",
    "df_cleaned.info()"
   ]
  },
  {
   "cell_type": "code",
   "execution_count": null,
   "metadata": {},
   "outputs": [],
   "source": []
  },
  {
   "cell_type": "code",
   "execution_count": null,
   "metadata": {},
   "outputs": [],
   "source": []
  }
 ],
 "metadata": {
  "kernelspec": {
   "display_name": "Python 3 (ipykernel)",
   "language": "python",
   "name": "python3"
  },
  "language_info": {
   "codemirror_mode": {
    "name": "ipython",
    "version": 3
   },
   "file_extension": ".py",
   "mimetype": "text/x-python",
   "name": "python",
   "nbconvert_exporter": "python",
   "pygments_lexer": "ipython3",
   "version": "3.11.5"
  }
 },
 "nbformat": 4,
 "nbformat_minor": 2
}
